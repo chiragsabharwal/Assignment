{
 "cells": [
  {
   "cell_type": "markdown",
   "metadata": {},
   "source": [
    "# Assignment2 Task1 Q1.1 Write a Python Program to implement your own myreduce() function which works exactly like\n",
    "# Python's built-in function reduce()"
   ]
  },
  {
   "cell_type": "code",
   "execution_count": 1,
   "metadata": {},
   "outputs": [
    {
     "name": "stdout",
     "output_type": "stream",
     "text": [
      "Reduction result of list [7, 2, 3, 3, 9] is: 24\n",
      "Reduction result of tuple (7, 2, 3, 3, 9) is: 24\n"
     ]
    }
   ],
   "source": [
    "class MY_TOOLS:\n",
    "            \n",
    "    def myReduce(self,func,seq):\n",
    "        self.func = func\n",
    "        self.seq = list(seq)\n",
    "        \n",
    "        if len(self.seq)>1:\n",
    "            self.seq[1] = self.func(self.seq[0],self.seq[1])\n",
    "            self.seq.pop(0)\n",
    "            self.myReduce(self.func,self.seq)\n",
    "        \n",
    "        return self.seq[0]\n",
    "\n",
    "newTool = MY_TOOLS()\n",
    "\n",
    "lst = [7,2,3,3,9]\n",
    "result = newTool.myReduce(lambda x,y:x+y,lst)\n",
    "print(\"Reduction result of list {} is: {}\".format(lst,result))\n",
    "\n",
    "tpl = (7,2,3,3,9)\n",
    "result = newTool.myReduce(lambda x,y:x+y,tpl)\n",
    "print(\"Reduction result of tuple {} is: {}\".format(tpl,result))"
   ]
  },
  {
   "cell_type": "code",
   "execution_count": null,
   "metadata": {},
   "outputs": [],
   "source": []
  },
  {
   "cell_type": "markdown",
   "metadata": {},
   "source": [
    "# Assignment2 Task1 Q1.2 Write a Python program to implement your own myfilter() function which works exactly like\n",
    "# Python's built-in function filter()"
   ]
  },
  {
   "cell_type": "code",
   "execution_count": 2,
   "metadata": {},
   "outputs": [
    {
     "name": "stdout",
     "output_type": "stream",
     "text": [
      "filtered list of even numbers from list [7, 2, 3, 3, 9] is: [2]\n",
      "filtered list of odd numbers from tuple (7, 2, 3, 3, 9) is: [7, 3, 3, 9]\n"
     ]
    }
   ],
   "source": [
    "class MY_TOOLS:\n",
    "            \n",
    "    def myFilter(self,func,seq):\n",
    "        self.func = func\n",
    "        self.seq = list(seq)\n",
    "        \n",
    "        newLst = []\n",
    "        \n",
    "        for i in self.seq:\n",
    "            if self.func(i):\n",
    "                newLst.append(i)\n",
    "        return newLst\n",
    "\n",
    "newTool = MY_TOOLS()\n",
    "\n",
    "lst = [7,2,3,3,9]\n",
    "result = newTool.myFilter(lambda x:x%2==0,lst)\n",
    "print(\"filtered list of even numbers from list {} is: {}\".format(lst,result))\n",
    "\n",
    "tpl = (7,2,3,3,9)\n",
    "result = newTool.myFilter(lambda x:x%2!=0,tpl)\n",
    "print(\"filtered list of odd numbers from tuple {} is: {}\".format(tpl,result))"
   ]
  },
  {
   "cell_type": "code",
   "execution_count": null,
   "metadata": {},
   "outputs": [],
   "source": []
  },
  {
   "cell_type": "markdown",
   "metadata": {},
   "source": [
    "# Assignment2 Task1 Q2 Implement List comprehensions to produce the following lists.\n",
    "# Write List comprehensions to produce the following Lists\n",
    "# ['A', 'C', 'A', 'D', 'G', 'I', 'L', 'D']\n",
    "# ['x', 'xx', 'xxx', 'xxxx', 'y', 'yy', 'yyy', 'yyyy', 'z', 'zz', 'zzz', 'zzzz']\n",
    "# ['x', 'y', 'z', 'xx', 'yy', 'zz', 'xx', 'yy', 'zz', 'xxxx', 'yyyy', 'zzzz']\n",
    "# [[2], [3], [4], [3], [4], [5], [4], [5], [6]]\n",
    "# [[2, 3, 4, 5], [3, 4, 5, 6], [4, 5, 6, 7], [5, 6, 7, 8]]\n",
    "# [(1, 1), (2, 1), (3, 1), (1, 2), (2, 2), (3, 2), (1, 3), (2, 3), (3, 3)]"
   ]
  },
  {
   "cell_type": "code",
   "execution_count": null,
   "metadata": {},
   "outputs": [],
   "source": []
  },
  {
   "cell_type": "markdown",
   "metadata": {},
   "source": [
    "# ['A', 'C', 'A', 'D', 'G', 'I', 'L', 'D']    below"
   ]
  },
  {
   "cell_type": "code",
   "execution_count": 3,
   "metadata": {},
   "outputs": [
    {
     "data": {
      "text/plain": [
       "['A', 'C', 'A', 'D', 'G', 'I', 'L', 'D']"
      ]
     },
     "execution_count": 3,
     "metadata": {},
     "output_type": "execute_result"
    }
   ],
   "source": [
    "[chr(65),chr(67),chr(65),chr(68),chr(71),chr(73),chr(76),chr(68)] # Could not find any logic in the sequence here. please tell me if there is any."
   ]
  },
  {
   "cell_type": "code",
   "execution_count": 4,
   "metadata": {},
   "outputs": [
    {
     "data": {
      "text/plain": [
       "['A', 'C', 'A', 'D', 'G', 'I', 'L', 'D']"
      ]
     },
     "execution_count": 4,
     "metadata": {},
     "output_type": "execute_result"
    }
   ],
   "source": [
    "#another way to create above list is...\n",
    "\n",
    "word = \"ACADGILD\"\n",
    "[x for x in word]"
   ]
  },
  {
   "cell_type": "markdown",
   "metadata": {},
   "source": [
    "# ['x', 'xx', 'xxx', 'xxxx', 'y', 'yy', 'yyy', 'yyyy', 'z', 'zz', 'zzz', 'zzzz']    below"
   ]
  },
  {
   "cell_type": "code",
   "execution_count": 5,
   "metadata": {},
   "outputs": [
    {
     "data": {
      "text/plain": [
       "['x', 'xx', 'xxx', 'xxxx', 'y', 'yy', 'yyy', 'yyyy', 'z', 'zz', 'zzz', 'zzzz']"
      ]
     },
     "execution_count": 5,
     "metadata": {},
     "output_type": "execute_result"
    }
   ],
   "source": [
    "[chr(x)*y for x in range(120,123) for y in range(1,5)]"
   ]
  },
  {
   "cell_type": "markdown",
   "metadata": {},
   "source": [
    "# ['x', 'y', 'z', 'xx', 'yy', 'zz', 'xx', 'yy', 'zz', 'xxxx', 'yyyy', 'zzzz']    below"
   ]
  },
  {
   "cell_type": "code",
   "execution_count": 6,
   "metadata": {},
   "outputs": [
    {
     "data": {
      "text/plain": [
       "['x', 'y', 'z', 'xx', 'yy', 'zz', 'xxx', 'yyy', 'zzz', 'xxxx', 'yyyy', 'zzzz']"
      ]
     },
     "execution_count": 6,
     "metadata": {},
     "output_type": "execute_result"
    }
   ],
   "source": [
    "[chr(x)*y for y in range(1,5) for x in range(120,123)]"
   ]
  },
  {
   "cell_type": "markdown",
   "metadata": {},
   "source": [
    "# [[2], [3], [4], [3], [4], [5], [4], [5], [6]]    below"
   ]
  },
  {
   "cell_type": "code",
   "execution_count": 7,
   "metadata": {},
   "outputs": [
    {
     "data": {
      "text/plain": [
       "[[2], [3], [4], [3], [4], [5], [4], [5], [6]]"
      ]
     },
     "execution_count": 7,
     "metadata": {},
     "output_type": "execute_result"
    }
   ],
   "source": [
    "[[x+y] for x in range(1,4) for y in range(1,4)]"
   ]
  },
  {
   "cell_type": "markdown",
   "metadata": {},
   "source": [
    "# [[2, 3, 4, 5], [3, 4, 5, 6], [4, 5, 6, 7], [5, 6, 7, 8]]    below"
   ]
  },
  {
   "cell_type": "code",
   "execution_count": 8,
   "metadata": {},
   "outputs": [
    {
     "data": {
      "text/plain": [
       "[[2, 3, 4, 5], [3, 4, 5, 6], [4, 5, 6, 7], [5, 6, 7, 8]]"
      ]
     },
     "execution_count": 8,
     "metadata": {},
     "output_type": "execute_result"
    }
   ],
   "source": [
    "[[x+y for x in range(1,5)] for y in range(1,5)]"
   ]
  },
  {
   "cell_type": "markdown",
   "metadata": {},
   "source": [
    "# [(1, 1), (2, 1), (3, 1), (1, 2), (2, 2), (3, 2), (1, 3), (2, 3), (3, 3)]    below"
   ]
  },
  {
   "cell_type": "code",
   "execution_count": 9,
   "metadata": {},
   "outputs": [
    {
     "data": {
      "text/plain": [
       "[(1, 1), (2, 1), (3, 1), (1, 2), (2, 2), (3, 2), (1, 3), (2, 3), (3, 3)]"
      ]
     },
     "execution_count": 9,
     "metadata": {},
     "output_type": "execute_result"
    }
   ],
   "source": [
    "[(x,y) for y in range(1,4) for x in range (1,4)]"
   ]
  },
  {
   "cell_type": "code",
   "execution_count": null,
   "metadata": {},
   "outputs": [],
   "source": []
  },
  {
   "cell_type": "markdown",
   "metadata": {},
   "source": [
    "# Assignment2 Task1 Q3 Implement a function longestWord() that takes a list of words and returns the longest one."
   ]
  },
  {
   "cell_type": "code",
   "execution_count": 10,
   "metadata": {},
   "outputs": [
    {
     "name": "stdout",
     "output_type": "stream",
     "text": [
      "Longest word in wordlist ['Chirag', 'Sabharwal', 'great', 'job'] is Sabharwal.\n",
      "One of the longest word in wordlist ['Chirag', 'Sabharwal', '123456789', 'great', 'job'] is 123456789.\n"
     ]
    }
   ],
   "source": [
    "# The question does tell us, what to do if there are two or more words, which are longest and have same biggest length, so I am creating this function to return any one of them.\n",
    "\n",
    "from functools import *\n",
    "\n",
    "def longestWord(lst):\n",
    "    result=reduce(lambda x,y:x if len(x)>len(y) else y,lst)\n",
    "    return result\n",
    "\n",
    "wordList1 = ['Chirag', 'Sabharwal', 'great', 'job']\n",
    "wordList2 = ['Chirag', 'Sabharwal', '123456789', 'great', 'job']\n",
    "\n",
    "result1 = longestWord(wordList1)\n",
    "result2 = longestWord(wordList2)\n",
    "\n",
    "print(\"Longest word in wordlist {} is {}.\".format(wordList1,result1))\n",
    "print(\"One of the longest word in wordlist {} is {}.\".format(wordList2,result2))"
   ]
  },
  {
   "cell_type": "code",
   "execution_count": null,
   "metadata": {},
   "outputs": [],
   "source": []
  },
  {
   "cell_type": "markdown",
   "metadata": {},
   "source": [
    "# Assignment2 Task2 Q1.1 Write a Python Program(with class concepts) to find the area of the triangle using the below\n",
    "# formula.\n",
    "# area = (s*(s-a)*(s-b)*(s-c)) ** 0.5\n",
    "# Function to take the length of the sides of triangle from user should be defined in the parent\n",
    "# class and function to calculate the area should be defined in subclass."
   ]
  },
  {
   "cell_type": "code",
   "execution_count": 11,
   "metadata": {},
   "outputs": [
    {
     "name": "stdout",
     "output_type": "stream",
     "text": [
      "Please enter first side length of the triangle: 3\n",
      "Please enter second side length of the triangle: 4\n",
      "Please enter third side length of the triangle: 5\n",
      "Area of triangle with entered side lengths is 6.0\n"
     ]
    }
   ],
   "source": [
    "class CollectSideLength:\n",
    "    \n",
    "    def funcCollectSideLength(self):\n",
    "        self.len1 = float(input(\"Please enter first side length of the triangle: \"))\n",
    "        self.len2 = float(input(\"Please enter second side length of the triangle: \"))\n",
    "        self.len3 = float(input(\"Please enter third side length of the triangle: \"))\n",
    "        \n",
    "class CalculateArea(CollectSideLength):\n",
    "    \n",
    "    def funcCalculateAreaOfTriangle(self):\n",
    "        self.s = (self.len1+self.len2+self.len3)/2\n",
    "        self.area = (self.s*(self.s-self.len1)*(self.s-self.len2)*(self.s-self.len3))**.5\n",
    "        return self.area\n",
    "    \n",
    "mathVar = CalculateArea()\n",
    "mathVar.funcCollectSideLength()\n",
    "print(\"Area of triangle with entered side lengths is\", mathVar.funcCalculateAreaOfTriangle())"
   ]
  },
  {
   "cell_type": "markdown",
   "metadata": {},
   "source": [
    "# Assignment2 Task2 Q1.2 Write a function filter_long_words() that takes a list of words and an integer n and returns the list\n",
    "# of words that are longer than n."
   ]
  },
  {
   "cell_type": "code",
   "execution_count": 12,
   "metadata": {},
   "outputs": [
    {
     "name": "stdout",
     "output_type": "stream",
     "text": [
      "Please enter the min length of words to filter from word list:5\n",
      "List of words longer than 5 charaters in the list ['Chirag', 'Sabharwal', 'great', 'job'] is ['Chirag', 'Sabharwal'].\n",
      "List of words longer than 5 charaters in the list ['Chirag', 'Sabharwal', '123456789', 'great', 'job'] is ['Chirag', 'Sabharwal', '123456789'].\n"
     ]
    }
   ],
   "source": [
    "# from functools import *\n",
    "\n",
    "def filter_long_words(wordLst,filterLen):\n",
    "    result=list(filter(lambda x: len(x)>filterLen,wordLst))\n",
    "    return result\n",
    "\n",
    "wordLenToFilter = int(input(\"Please enter the min length of words to filter from word list:\"))\n",
    "wordList1 = ['Chirag', 'Sabharwal', 'great', 'job']\n",
    "wordList2 = ['Chirag', 'Sabharwal', '123456789', 'great', 'job']\n",
    "\n",
    "result1 = filter_long_words(wordList1,wordLenToFilter)\n",
    "result2 = filter_long_words(wordList2,wordLenToFilter)\n",
    "\n",
    "print(\"List of words longer than {} charaters in the list {} is {}.\".format(wordLenToFilter,wordList1,result1))\n",
    "print(\"List of words longer than {} charaters in the list {} is {}.\".format(wordLenToFilter,wordList2,result2))"
   ]
  },
  {
   "cell_type": "markdown",
   "metadata": {},
   "source": [
    "# Assignment2 Task2 Q2.1 Write a Python program using function concept that maps list of words into a list of integers\n",
    "# representing the lengths of the corresponding words .\n",
    "# Hint: If a list [ ab,cde,erty] is passed on to the python function output should come as [2,3,4]\n",
    "# Here 2,3 and 4 are the lengths of the words in the list."
   ]
  },
  {
   "cell_type": "code",
   "execution_count": 13,
   "metadata": {},
   "outputs": [
    {
     "name": "stdout",
     "output_type": "stream",
     "text": [
      "[2, 3, 4]\n"
     ]
    }
   ],
   "source": [
    "newWordList = [\"ab\",\"cde\",\"erty\"]\n",
    "\n",
    "lenList = list(map(lambda x:len(x),newWordList))\n",
    "\n",
    "print(lenList)"
   ]
  },
  {
   "cell_type": "markdown",
   "metadata": {},
   "source": [
    "# Assignment2 Task2 Q2.2 Write a Python function which takes a character (i.e. a string of length 1) and returns True if it is\n",
    "# a vowel, False otherwise."
   ]
  },
  {
   "cell_type": "code",
   "execution_count": 14,
   "metadata": {},
   "outputs": [
    {
     "name": "stdout",
     "output_type": "stream",
     "text": [
      "Please enter a character:a\n",
      "The character you entered is a vowel.\n"
     ]
    }
   ],
   "source": [
    "def characterCharacter(ch):\n",
    "    return True if ch in ['a','e','i','o','u','A','E','I','O','U'] else False\n",
    "\n",
    "inputChar = input(\"Please enter a character:\")\n",
    "\n",
    "if characterCharacter(inputChar):\n",
    "    print(\"The character you entered is a vowel.\")\n",
    "else:\n",
    "    print(\"You did not enter a vowel.\")"
   ]
  },
  {
   "cell_type": "code",
   "execution_count": null,
   "metadata": {},
   "outputs": [],
   "source": []
  }
 ],
 "metadata": {
  "kernelspec": {
   "display_name": "Python 3",
   "language": "python",
   "name": "python3"
  },
  "language_info": {
   "codemirror_mode": {
    "name": "ipython",
    "version": 3
   },
   "file_extension": ".py",
   "mimetype": "text/x-python",
   "name": "python",
   "nbconvert_exporter": "python",
   "pygments_lexer": "ipython3",
   "version": "3.7.4"
  }
 },
 "nbformat": 4,
 "nbformat_minor": 2
}
